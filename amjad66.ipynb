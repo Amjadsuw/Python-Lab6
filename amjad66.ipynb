{
 "cells": [
  {
   "cell_type": "code",
   "execution_count": null,
   "id": "004b09f3",
   "metadata": {},
   "outputs": [],
   "source": [
    "def phone_program(number_owner):\n",
    "     \n",
    "     phone_program = {\n",
    "          '1111111111':'Amal',\n",
    "         '2222222222':'Mohammed',\n",
    "         '3333333333':'Khadijah',\n",
    "         '4444444444':'Abdullah',\n",
    "         '5555555555':'Rawan',\n",
    "         '6666666666':'Faisal',\n",
    "         '7777777777':'Layla'\n",
    "     }\n",
    "     \n",
    "       \n",
    "     if number_owner in phone_program :\n",
    "         return phone_program[number_owner]\n",
    "     elif len(phone_program) != 10 and not number_owner.isdigit() :\n",
    "            return \"This is invalid number\"\n",
    "     else:\n",
    "         return \"Sorry, the number is not found\"\n",
    " \n",
    "    \n",
    "number_owner = input(\"Please enter the phone number: \")\n",
    "\n",
    "\n",
    "Ftest = phone_program(number_owner)\n",
    "print(Ftest)\n",
    " "
   ]
  },
  {
   "cell_type": "markdown",
   "id": "8da62732",
   "metadata": {},
   "source": []
  },
  {
   "cell_type": "markdown",
   "id": "28a2d52e",
   "metadata": {},
   "source": []
  },
  {
   "cell_type": "code",
   "execution_count": null,
   "id": "d88ea8d4",
   "metadata": {},
   "outputs": [],
   "source": []
  },
  {
   "cell_type": "code",
   "execution_count": null,
   "id": "48dc8961",
   "metadata": {},
   "outputs": [],
   "source": []
  }
 ],
 "metadata": {
  "kernelspec": {
   "display_name": "Python 3 (ipykernel)",
   "language": "python",
   "name": "python3"
  },
  "language_info": {
   "codemirror_mode": {
    "name": "ipython",
    "version": 3
   },
   "file_extension": ".py",
   "mimetype": "text/x-python",
   "name": "python",
   "nbconvert_exporter": "python",
   "pygments_lexer": "ipython3",
   "version": "3.10.9"
  }
 },
 "nbformat": 4,
 "nbformat_minor": 5
}
